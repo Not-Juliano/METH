{
 "cells": [
  {
   "cell_type": "markdown",
   "metadata": {},
   "source": [
    "# Finding the Boltzmann Constant"
   ]
  },
  {
   "cell_type": "code",
   "execution_count": null,
   "metadata": {},
   "outputs": [],
   "source": [
    "#imports\n",
    "\n",
    "import astropy.constants as c\n",
    "import astropy.units as u\n",
    "import numpy as np\n",
    "from numpy import linspace\n",
    "import matplotlib.pyplot as plt\n",
    "%matplotlib inline\n",
    "import mpmath\n"
   ]
  },
  {
   "cell_type": "code",
   "execution_count": null,
   "metadata": {},
   "outputs": [],
   "source": [
    "#labeling constants\n",
    "a=1e-8 #getting very close to zero\n",
    "b=(np.pi)/2\n",
    "n=1000\n",
    "k=1\n",
    "s=0\n",
    "h=(b-a)/n\n",
    "w= (c.k_B)**4/(4*np.pi**2*(c.c)**2*(c.hbar)**3)"
   ]
  },
  {
   "cell_type": "code",
   "execution_count": null,
   "metadata": {},
   "outputs": [],
   "source": [
    "#here we use the tan transformation and create a function that uses it.\n",
    "\n",
    "def fun(x):\n",
    "    z=np.tan(x)\n",
    "    function=((z**3)*mpmath.sec(x)**2)/((np.exp(z)-1))\n",
    "    return function"
   ]
  },
  {
   "cell_type": "code",
   "execution_count": null,
   "metadata": {},
   "outputs": [],
   "source": [
    "#Create a loop, and the fundamentals of the trapezodial method \n",
    "\n",
    "for k in range(1, n):\n",
    "    s+=fun(a+k*h)\n",
    "    \n",
    "final=h*(0.5*fun(a)+0.5*fun(b)+s)"
   ]
  },
  {
   "cell_type": "code",
   "execution_count": null,
   "metadata": {},
   "outputs": [],
   "source": [
    "final*w"
   ]
  },
  {
   "cell_type": "code",
   "execution_count": null,
   "metadata": {},
   "outputs": [],
   "source": [
    "output=final*w"
   ]
  },
  {
   "cell_type": "code",
   "execution_count": null,
   "metadata": {},
   "outputs": [],
   "source": [
    "print( \" As seen above, the Stefan Boltmann Constant is {}\".format(output))"
   ]
  },
  {
   "cell_type": "code",
   "execution_count": null,
   "metadata": {},
   "outputs": [],
   "source": []
  }
 ],
 "metadata": {
  "kernelspec": {
   "display_name": "Python 3",
   "language": "python",
   "name": "python3"
  },
  "language_info": {
   "codemirror_mode": {
    "name": "ipython",
    "version": 3
   },
   "file_extension": ".py",
   "mimetype": "text/x-python",
   "name": "python",
   "nbconvert_exporter": "python",
   "pygments_lexer": "ipython3",
   "version": "3.7.3"
  }
 },
 "nbformat": 4,
 "nbformat_minor": 2
}
